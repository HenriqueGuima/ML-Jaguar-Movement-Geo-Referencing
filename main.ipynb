{
 "cells": [
  {
   "cell_type": "markdown",
   "metadata": {},
   "source": [
    "1. Data Preprocessing\n",
    " Convert Timestamps: Parse the timestamp column into a datetime format.\n",
    " Extract time of day, day of the week, month, etc., for temporal features.\n",
    " Handle Missing Data:\n",
    " Identify and address missing values or outliers.\n",
    " Decide whether to impute or drop missing values based on the context.\n",
    " Geospatial Data Processing:\n",
    " Calculate distances between consecutive events.\n",
    " Create velocity, direction, and movement features based on location data (location.long, location.lat).\n",
    " Encode Categorical Variables:\n",
    " One-hot encode or label encode variables like individual.taxon.canonical.name, study.name, and country. <br><br>"
   ]
  },
  {
   "cell_type": "code",
   "execution_count": 1,
   "metadata": {},
   "outputs": [],
   "source": [
    "import pandas as pd\n",
    "import numpy as np\n",
    "import matplotlib.pyplot as plt\n",
    "import seaborn as sns\n",
    "from sklearn.model_selection import train_test_split\n",
    "from sklearn.preprocessing import StandardScaler\n",
    "from sklearn.linear_model import LogisticRegression\n",
    "from sklearn.metrics import confusion_matrix\n",
    "from sklearn.metrics import classification_report"
   ]
  },
  {
   "cell_type": "code",
   "execution_count": 3,
   "metadata": {},
   "outputs": [
    {
     "name": "stderr",
     "output_type": "stream",
     "text": [
      "C:\\Users\\Guima\\AppData\\Local\\Temp\\ipykernel_19824\\833975228.py:2: DtypeWarning: Columns (5) have mixed types. Specify dtype option on import or set low_memory=False.\n",
      "  data = pd.read_csv('DataS1/jaguar_movement_data.csv')\n"
     ]
    },
    {
     "data": {
      "text/html": [
       "<div>\n",
       "<style scoped>\n",
       "    .dataframe tbody tr th:only-of-type {\n",
       "        vertical-align: middle;\n",
       "    }\n",
       "\n",
       "    .dataframe tbody tr th {\n",
       "        vertical-align: top;\n",
       "    }\n",
       "\n",
       "    .dataframe thead th {\n",
       "        text-align: right;\n",
       "    }\n",
       "</style>\n",
       "<table border=\"1\" class=\"dataframe\">\n",
       "  <thead>\n",
       "    <tr style=\"text-align: right;\">\n",
       "      <th></th>\n",
       "      <th>Event_ID</th>\n",
       "      <th>timestamp</th>\n",
       "      <th>location.long</th>\n",
       "      <th>location.lat</th>\n",
       "      <th>individual.taxon.canonical.name</th>\n",
       "      <th>tag.local.identifier</th>\n",
       "      <th>individual.local.identifier (ID)</th>\n",
       "      <th>study.name</th>\n",
       "      <th>country</th>\n",
       "    </tr>\n",
       "  </thead>\n",
       "  <tbody>\n",
       "    <tr>\n",
       "      <th>0</th>\n",
       "      <td>1.0</td>\n",
       "      <td>6/15/10 22:43</td>\n",
       "      <td>-58.030128</td>\n",
       "      <td>-23.326947</td>\n",
       "      <td>Panthera onca</td>\n",
       "      <td>0-333005</td>\n",
       "      <td>1</td>\n",
       "      <td>Humid Chaco</td>\n",
       "      <td>Paraguay</td>\n",
       "    </tr>\n",
       "    <tr>\n",
       "      <th>1</th>\n",
       "      <td>2.0</td>\n",
       "      <td>6/16/10 2:52</td>\n",
       "      <td>-58.030643</td>\n",
       "      <td>-23.328427</td>\n",
       "      <td>Panthera onca</td>\n",
       "      <td>0-333005</td>\n",
       "      <td>1</td>\n",
       "      <td>Humid Chaco</td>\n",
       "      <td>Paraguay</td>\n",
       "    </tr>\n",
       "    <tr>\n",
       "      <th>2</th>\n",
       "      <td>3.0</td>\n",
       "      <td>6/16/10 22:36</td>\n",
       "      <td>-58.030472</td>\n",
       "      <td>-23.327311</td>\n",
       "      <td>Panthera onca</td>\n",
       "      <td>0-333005</td>\n",
       "      <td>1</td>\n",
       "      <td>Humid Chaco</td>\n",
       "      <td>Paraguay</td>\n",
       "    </tr>\n",
       "    <tr>\n",
       "      <th>3</th>\n",
       "      <td>4.0</td>\n",
       "      <td>6/17/10 16:42</td>\n",
       "      <td>-58.027983</td>\n",
       "      <td>-23.309952</td>\n",
       "      <td>Panthera onca</td>\n",
       "      <td>0-333005</td>\n",
       "      <td>1</td>\n",
       "      <td>Humid Chaco</td>\n",
       "      <td>Paraguay</td>\n",
       "    </tr>\n",
       "    <tr>\n",
       "      <th>4</th>\n",
       "      <td>5.0</td>\n",
       "      <td>6/17/10 20:37</td>\n",
       "      <td>-58.027747</td>\n",
       "      <td>-23.310006</td>\n",
       "      <td>Panthera onca</td>\n",
       "      <td>0-333005</td>\n",
       "      <td>1</td>\n",
       "      <td>Humid Chaco</td>\n",
       "      <td>Paraguay</td>\n",
       "    </tr>\n",
       "  </tbody>\n",
       "</table>\n",
       "</div>"
      ],
      "text/plain": [
       "   Event_ID      timestamp  location.long  location.lat  \\\n",
       "0       1.0  6/15/10 22:43     -58.030128    -23.326947   \n",
       "1       2.0   6/16/10 2:52     -58.030643    -23.328427   \n",
       "2       3.0  6/16/10 22:36     -58.030472    -23.327311   \n",
       "3       4.0  6/17/10 16:42     -58.027983    -23.309952   \n",
       "4       5.0  6/17/10 20:37     -58.027747    -23.310006   \n",
       "\n",
       "  individual.taxon.canonical.name tag.local.identifier  \\\n",
       "0                   Panthera onca             0-333005   \n",
       "1                   Panthera onca             0-333005   \n",
       "2                   Panthera onca             0-333005   \n",
       "3                   Panthera onca             0-333005   \n",
       "4                   Panthera onca             0-333005   \n",
       "\n",
       "   individual.local.identifier (ID)   study.name   country  \n",
       "0                                 1  Humid Chaco  Paraguay  \n",
       "1                                 1  Humid Chaco  Paraguay  \n",
       "2                                 1  Humid Chaco  Paraguay  \n",
       "3                                 1  Humid Chaco  Paraguay  \n",
       "4                                 1  Humid Chaco  Paraguay  "
      ]
     },
     "execution_count": 3,
     "metadata": {},
     "output_type": "execute_result"
    }
   ],
   "source": [
    "# Load dataset\n",
    "data = pd.read_csv('DataS1/jaguar_movement_data.csv')\n",
    "\n",
    "data.head()"
   ]
  },
  {
   "cell_type": "markdown",
   "metadata": {},
   "source": [
    "2. Feature Engineering\n",
    " Movement Features:\n",
    " Calculate speed, velocity, and direction between consecutive events.\n",
    " Derive acceleration or changes in movement direction.\n",
    " Environmental Features:\n",
    " Integrate meteorological data (e.g., temperature, rainfall) if available.\n",
    " Integrate terrain data (e.g., elevation, land cover type) if available.\n",
    " Temporal Features:\n",
    " Extract time of day, day of week, and season from the timestamp.\n",
    " Identify specific behavioral periods like night vs. day.<br><br>"
   ]
  },
  {
   "cell_type": "markdown",
   "metadata": {},
   "source": [
    "3. Labeling the Data\n",
    " Behavior Labeling:\n",
    " Manually label a subset of data with different behaviors (e.g., movement, hunting, resting).\n",
    " Consider cross-referencing domain knowledge or complementary data to infer labels."
   ]
  },
  {
   "cell_type": "markdown",
   "metadata": {},
   "source": [
    "4. Model Selection\n",
    " Choose Algorithms:\n",
    " Evaluate models like Random Forest, Gradient Boosting Machines (e.g., XGBoost), or neural networks (RNN/LSTM for sequential data).\n",
    " Decide on the best model based on data type and problem complexity.\n",
    " Split Data:\n",
    " Split the data into training and testing sets (e.g., 80/20 or 70/30 split)."
   ]
  },
  {
   "cell_type": "markdown",
   "metadata": {},
   "source": [
    "5. Model Training and Evaluation\n",
    " Train Models:\n",
    " Train selected models using the preprocessed data.\n",
    " Use cross-validation to tune model parameters.\n",
    " Evaluate Model:\n",
    " Evaluate performance using metrics like accuracy, precision, recall, and F1-score.\n",
    " If the dataset is imbalanced, apply techniques like SMOTE to balance it."
   ]
  },
  {
   "cell_type": "markdown",
   "metadata": {},
   "source": [
    "6. Cross-Referencing with Complementary Data\n",
    " Integrate Meteorological Data:\n",
    " Merge weather data (e.g., temperature, humidity) with animal tracking data.\n",
    " Integrate Terrain Data:\n",
    " Merge terrain data (e.g., elevation, land use) with animal tracking data.\n",
    " Behavioral Biology Data:\n",
    " Incorporate knowledge from related behavioral biology studies (if available)."
   ]
  },
  {
   "cell_type": "markdown",
   "metadata": {},
   "source": [
    "7. Model Deployment\n",
    " Model Evaluation: Confirm that the model generalizes well to new or unseen data.\n",
    " Deploy Model:\n",
    " Prepare the model for deployment in a real-time or batch setting for wildlife tracking.\n",
    " Implement a user interface or tool to apply the model to new data."
   ]
  }
 ],
 "metadata": {
  "kernelspec": {
   "display_name": "Python 3",
   "language": "python",
   "name": "python3"
  },
  "language_info": {
   "codemirror_mode": {
    "name": "ipython",
    "version": 3
   },
   "file_extension": ".py",
   "mimetype": "text/x-python",
   "name": "python",
   "nbconvert_exporter": "python",
   "pygments_lexer": "ipython3",
   "version": "3.12.5"
  }
 },
 "nbformat": 4,
 "nbformat_minor": 2
}
